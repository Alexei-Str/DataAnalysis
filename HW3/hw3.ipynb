{
 "cells": [
  {
   "cell_type": "code",
   "execution_count": 3,
   "metadata": {},
   "outputs": [],
   "source": [
    "import numpy as np \n",
    "\n",
    "import pandas as pd \n",
    "\n",
    "import pylab as pl \n",
    "\n",
    "import matplotlib.pyplot as plt \n",
    "\n",
    "plt.style.use('ggplot') \n",
    "\n",
    "%matplotlib inline \n",
    "\n",
    "import seaborn as sns "
   ]
  },
  {
   "cell_type": "code",
   "execution_count": 4,
   "metadata": {},
   "outputs": [
    {
     "name": "stdout",
     "output_type": "stream",
     "text": [
      "<class 'pandas.core.frame.DataFrame'>\n",
      "RangeIndex: 22223 entries, 0 to 22222\n",
      "Data columns (total 13 columns):\n",
      "ID                 22223 non-null int64\n",
      "DemAffl            21138 non-null float64\n",
      "DemAge             20715 non-null float64\n",
      "DemCluster         21549 non-null float64\n",
      "DemClusterGroup    21549 non-null object\n",
      "DemGender          19711 non-null object\n",
      "DemReg             21758 non-null object\n",
      "DemTVReg           21758 non-null object\n",
      "PromClass          22223 non-null object\n",
      "PromSpend          22223 non-null float64\n",
      "PromTime           21942 non-null float64\n",
      "TargetBuy          22223 non-null int64\n",
      "TargetAmt          22223 non-null int64\n",
      "dtypes: float64(5), int64(3), object(5)\n",
      "memory usage: 2.2+ MB\n"
     ]
    }
   ],
   "source": [
    "df=pd.read_csv(\"D:\\ORGANICS.csv\",encoding=\"cp1251\") \n",
    "df.info()"
   ]
  },
  {
   "cell_type": "code",
   "execution_count": 5,
   "metadata": {},
   "outputs": [
    {
     "name": "stdout",
     "output_type": "stream",
     "text": [
      "<class 'pandas.core.frame.DataFrame'>\n",
      "RangeIndex: 22223 entries, 0 to 22222\n",
      "Data columns (total 11 columns):\n",
      "DemAffl            21138 non-null float64\n",
      "DemAge             20715 non-null float64\n",
      "DemCluster         21549 non-null float64\n",
      "DemClusterGroup    21549 non-null object\n",
      "DemGender          19711 non-null object\n",
      "DemReg             21758 non-null object\n",
      "DemTVReg           21758 non-null object\n",
      "PromClass          22223 non-null object\n",
      "PromSpend          22223 non-null float64\n",
      "PromTime           21942 non-null float64\n",
      "TargetBuy          22223 non-null int64\n",
      "dtypes: float64(5), int64(1), object(5)\n",
      "memory usage: 1.9+ MB\n"
     ]
    }
   ],
   "source": [
    "# ID и TargetAmt не нужны\n",
    "df2 = df[['DemAffl', 'DemAge', 'DemCluster', 'DemClusterGroup', 'DemGender', 'DemReg', 'DemTVReg', 'PromClass', 'PromSpend', 'PromTime', 'TargetBuy']]\n",
    "df2.info()"
   ]
  },
  {
   "cell_type": "code",
   "execution_count": 6,
   "metadata": {},
   "outputs": [
    {
     "data": {
      "text/plain": [
       "(22223, 11)"
      ]
     },
     "execution_count": 6,
     "metadata": {},
     "output_type": "execute_result"
    }
   ],
   "source": [
    "df2.shape"
   ]
  },
  {
   "cell_type": "code",
   "execution_count": 7,
   "metadata": {},
   "outputs": [
    {
     "data": {
      "text/html": [
       "<div>\n",
       "<style scoped>\n",
       "    .dataframe tbody tr th:only-of-type {\n",
       "        vertical-align: middle;\n",
       "    }\n",
       "\n",
       "    .dataframe tbody tr th {\n",
       "        vertical-align: top;\n",
       "    }\n",
       "\n",
       "    .dataframe thead th {\n",
       "        text-align: right;\n",
       "    }\n",
       "</style>\n",
       "<table border=\"1\" class=\"dataframe\">\n",
       "  <thead>\n",
       "    <tr style=\"text-align: right;\">\n",
       "      <th></th>\n",
       "      <th>DemAffl</th>\n",
       "      <th>DemAge</th>\n",
       "      <th>DemCluster</th>\n",
       "      <th>PromSpend</th>\n",
       "      <th>PromTime</th>\n",
       "      <th>TargetBuy</th>\n",
       "    </tr>\n",
       "  </thead>\n",
       "  <tbody>\n",
       "    <tr>\n",
       "      <td>count</td>\n",
       "      <td>21138.000000</td>\n",
       "      <td>20715.000000</td>\n",
       "      <td>21549.000000</td>\n",
       "      <td>22223.000000</td>\n",
       "      <td>21942.000000</td>\n",
       "      <td>22223.000000</td>\n",
       "    </tr>\n",
       "    <tr>\n",
       "      <td>mean</td>\n",
       "      <td>8.711893</td>\n",
       "      <td>53.797152</td>\n",
       "      <td>27.193652</td>\n",
       "      <td>4420.590041</td>\n",
       "      <td>6.564670</td>\n",
       "      <td>0.247716</td>\n",
       "    </tr>\n",
       "    <tr>\n",
       "      <td>std</td>\n",
       "      <td>3.421125</td>\n",
       "      <td>13.206048</td>\n",
       "      <td>15.751547</td>\n",
       "      <td>7559.047522</td>\n",
       "      <td>4.657113</td>\n",
       "      <td>0.431696</td>\n",
       "    </tr>\n",
       "    <tr>\n",
       "      <td>min</td>\n",
       "      <td>0.000000</td>\n",
       "      <td>18.000000</td>\n",
       "      <td>1.000000</td>\n",
       "      <td>0.010000</td>\n",
       "      <td>0.000000</td>\n",
       "      <td>0.000000</td>\n",
       "    </tr>\n",
       "    <tr>\n",
       "      <td>25%</td>\n",
       "      <td>6.000000</td>\n",
       "      <td>44.000000</td>\n",
       "      <td>14.000000</td>\n",
       "      <td>0.010000</td>\n",
       "      <td>4.000000</td>\n",
       "      <td>0.000000</td>\n",
       "    </tr>\n",
       "    <tr>\n",
       "      <td>50%</td>\n",
       "      <td>8.000000</td>\n",
       "      <td>54.000000</td>\n",
       "      <td>27.000000</td>\n",
       "      <td>2000.000000</td>\n",
       "      <td>5.000000</td>\n",
       "      <td>0.000000</td>\n",
       "    </tr>\n",
       "    <tr>\n",
       "      <td>75%</td>\n",
       "      <td>11.000000</td>\n",
       "      <td>64.000000</td>\n",
       "      <td>38.000000</td>\n",
       "      <td>6000.000000</td>\n",
       "      <td>8.000000</td>\n",
       "      <td>0.000000</td>\n",
       "    </tr>\n",
       "    <tr>\n",
       "      <td>max</td>\n",
       "      <td>34.000000</td>\n",
       "      <td>79.000000</td>\n",
       "      <td>55.000000</td>\n",
       "      <td>296313.850000</td>\n",
       "      <td>39.000000</td>\n",
       "      <td>1.000000</td>\n",
       "    </tr>\n",
       "  </tbody>\n",
       "</table>\n",
       "</div>"
      ],
      "text/plain": [
       "            DemAffl        DemAge    DemCluster      PromSpend      PromTime  \\\n",
       "count  21138.000000  20715.000000  21549.000000   22223.000000  21942.000000   \n",
       "mean       8.711893     53.797152     27.193652    4420.590041      6.564670   \n",
       "std        3.421125     13.206048     15.751547    7559.047522      4.657113   \n",
       "min        0.000000     18.000000      1.000000       0.010000      0.000000   \n",
       "25%        6.000000     44.000000     14.000000       0.010000      4.000000   \n",
       "50%        8.000000     54.000000     27.000000    2000.000000      5.000000   \n",
       "75%       11.000000     64.000000     38.000000    6000.000000      8.000000   \n",
       "max       34.000000     79.000000     55.000000  296313.850000     39.000000   \n",
       "\n",
       "          TargetBuy  \n",
       "count  22223.000000  \n",
       "mean       0.247716  \n",
       "std        0.431696  \n",
       "min        0.000000  \n",
       "25%        0.000000  \n",
       "50%        0.000000  \n",
       "75%        0.000000  \n",
       "max        1.000000  "
      ]
     },
     "execution_count": 7,
     "metadata": {},
     "output_type": "execute_result"
    }
   ],
   "source": [
    "df2.describe()"
   ]
  },
  {
   "cell_type": "code",
   "execution_count": 8,
   "metadata": {},
   "outputs": [
    {
     "data": {
      "text/html": [
       "<div>\n",
       "<style scoped>\n",
       "    .dataframe tbody tr th:only-of-type {\n",
       "        vertical-align: middle;\n",
       "    }\n",
       "\n",
       "    .dataframe tbody tr th {\n",
       "        vertical-align: top;\n",
       "    }\n",
       "\n",
       "    .dataframe thead th {\n",
       "        text-align: right;\n",
       "    }\n",
       "</style>\n",
       "<table border=\"1\" class=\"dataframe\">\n",
       "  <thead>\n",
       "    <tr style=\"text-align: right;\">\n",
       "      <th></th>\n",
       "      <th>DemAffl</th>\n",
       "      <th>DemAge</th>\n",
       "      <th>DemCluster</th>\n",
       "      <th>PromSpend</th>\n",
       "      <th>PromTime</th>\n",
       "      <th>TargetBuy</th>\n",
       "    </tr>\n",
       "  </thead>\n",
       "  <tbody>\n",
       "    <tr>\n",
       "      <td>DemAffl</td>\n",
       "      <td>1.000000</td>\n",
       "      <td>-0.137767</td>\n",
       "      <td>0.028571</td>\n",
       "      <td>-0.019621</td>\n",
       "      <td>-0.029736</td>\n",
       "      <td>0.359825</td>\n",
       "    </tr>\n",
       "    <tr>\n",
       "      <td>DemAge</td>\n",
       "      <td>-0.137767</td>\n",
       "      <td>1.000000</td>\n",
       "      <td>-0.172288</td>\n",
       "      <td>0.268434</td>\n",
       "      <td>0.207221</td>\n",
       "      <td>-0.302540</td>\n",
       "    </tr>\n",
       "    <tr>\n",
       "      <td>DemCluster</td>\n",
       "      <td>0.028571</td>\n",
       "      <td>-0.172288</td>\n",
       "      <td>1.000000</td>\n",
       "      <td>-0.108007</td>\n",
       "      <td>-0.054032</td>\n",
       "      <td>0.063521</td>\n",
       "    </tr>\n",
       "    <tr>\n",
       "      <td>PromSpend</td>\n",
       "      <td>-0.019621</td>\n",
       "      <td>0.268434</td>\n",
       "      <td>-0.108007</td>\n",
       "      <td>1.000000</td>\n",
       "      <td>0.033240</td>\n",
       "      <td>-0.079920</td>\n",
       "    </tr>\n",
       "    <tr>\n",
       "      <td>PromTime</td>\n",
       "      <td>-0.029736</td>\n",
       "      <td>0.207221</td>\n",
       "      <td>-0.054032</td>\n",
       "      <td>0.033240</td>\n",
       "      <td>1.000000</td>\n",
       "      <td>-0.053703</td>\n",
       "    </tr>\n",
       "    <tr>\n",
       "      <td>TargetBuy</td>\n",
       "      <td>0.359825</td>\n",
       "      <td>-0.302540</td>\n",
       "      <td>0.063521</td>\n",
       "      <td>-0.079920</td>\n",
       "      <td>-0.053703</td>\n",
       "      <td>1.000000</td>\n",
       "    </tr>\n",
       "  </tbody>\n",
       "</table>\n",
       "</div>"
      ],
      "text/plain": [
       "             DemAffl    DemAge  DemCluster  PromSpend  PromTime  TargetBuy\n",
       "DemAffl     1.000000 -0.137767    0.028571  -0.019621 -0.029736   0.359825\n",
       "DemAge     -0.137767  1.000000   -0.172288   0.268434  0.207221  -0.302540\n",
       "DemCluster  0.028571 -0.172288    1.000000  -0.108007 -0.054032   0.063521\n",
       "PromSpend  -0.019621  0.268434   -0.108007   1.000000  0.033240  -0.079920\n",
       "PromTime   -0.029736  0.207221   -0.054032   0.033240  1.000000  -0.053703\n",
       "TargetBuy   0.359825 -0.302540    0.063521  -0.079920 -0.053703   1.000000"
      ]
     },
     "execution_count": 8,
     "metadata": {},
     "output_type": "execute_result"
    }
   ],
   "source": [
    "corr_df2 = df2.corr()\n",
    "corr_df2"
   ]
  },
  {
   "cell_type": "code",
   "execution_count": 9,
   "metadata": {},
   "outputs": [
    {
     "data": {
      "text/plain": [
       "DemAffl             True\n",
       "DemAge              True\n",
       "DemCluster          True\n",
       "DemClusterGroup     True\n",
       "DemGender           True\n",
       "DemReg              True\n",
       "DemTVReg            True\n",
       "PromClass          False\n",
       "PromSpend          False\n",
       "PromTime            True\n",
       "TargetBuy          False\n",
       "dtype: bool"
      ]
     },
     "execution_count": 9,
     "metadata": {},
     "output_type": "execute_result"
    }
   ],
   "source": [
    "df2.isnull().any()\n",
    "# т.к. в таблице имеются значения NaN, мы проведём 2 анализа, а именно:\n",
    "# 1 - с удалением NaN\n",
    "# 2 - с заменой NaN усреднёнными значениями"
   ]
  },
  {
   "cell_type": "markdown",
   "metadata": {},
   "source": [
    "# (1) Удаление NaN\n"
   ]
  },
  {
   "cell_type": "code",
   "execution_count": 10,
   "metadata": {},
   "outputs": [],
   "source": [
    "df3= df2.dropna()"
   ]
  },
  {
   "cell_type": "code",
   "execution_count": 11,
   "metadata": {},
   "outputs": [
    {
     "data": {
      "text/plain": [
       "DemAffl            False\n",
       "DemAge             False\n",
       "DemCluster         False\n",
       "DemClusterGroup    False\n",
       "DemGender          False\n",
       "DemReg             False\n",
       "DemTVReg           False\n",
       "PromClass          False\n",
       "PromSpend          False\n",
       "PromTime           False\n",
       "TargetBuy          False\n",
       "dtype: bool"
      ]
     },
     "execution_count": 11,
     "metadata": {},
     "output_type": "execute_result"
    }
   ],
   "source": [
    "df3.isnull().any()"
   ]
  },
  {
   "cell_type": "code",
   "execution_count": 12,
   "metadata": {},
   "outputs": [
    {
     "name": "stdout",
     "output_type": "stream",
     "text": [
      "       DemAffl  DemAge  DemCluster  PromSpend  PromTime\n",
      "0         10.0    76.0        16.0   16000.00       4.0\n",
      "1          4.0    49.0        35.0    6000.00       5.0\n",
      "2          5.0    70.0        27.0       0.02       8.0\n",
      "3         10.0    65.0        51.0       0.01       7.0\n",
      "4         11.0    68.0         4.0       0.01       8.0\n",
      "...        ...     ...         ...        ...       ...\n",
      "22216     13.0    49.0         8.0     500.00       9.0\n",
      "22218     13.0    65.0         9.0    1500.00       5.0\n",
      "22219     15.0    73.0        34.0    6053.06      12.0\n",
      "22220      9.0    70.0        15.0    6000.00       5.0\n",
      "22221     11.0    66.0         8.0    5000.00       5.0\n",
      "\n",
      "[16408 rows x 5 columns]\n"
     ]
    }
   ],
   "source": [
    "x = df3[['DemAffl',  'DemAge', 'DemCluster', 'PromSpend', 'PromTime']]\n",
    "y = df3.values[::,10]\n",
    "print(x)"
   ]
  },
  {
   "cell_type": "code",
   "execution_count": 13,
   "metadata": {},
   "outputs": [
    {
     "name": "stdout",
     "output_type": "stream",
     "text": [
      "[0 0 1 ... 0 0 0]\n"
     ]
    }
   ],
   "source": [
    "print(y)"
   ]
  },
  {
   "cell_type": "code",
   "execution_count": 14,
   "metadata": {},
   "outputs": [
    {
     "data": {
      "text/plain": [
       "DecisionTreeClassifier(class_weight=None, criterion='entropy', max_depth=5,\n",
       "                       max_features=None, max_leaf_nodes=None,\n",
       "                       min_impurity_decrease=0.0, min_impurity_split=None,\n",
       "                       min_samples_leaf=1, min_samples_split=2,\n",
       "                       min_weight_fraction_leaf=0.0, presort=False,\n",
       "                       random_state=None, splitter='best')"
      ]
     },
     "execution_count": 14,
     "metadata": {},
     "output_type": "execute_result"
    }
   ],
   "source": [
    "# Обучение дерева\n",
    "\n",
    "from sklearn.model_selection import train_test_split\n",
    "\n",
    "X_train, X_test, y_train, y_test = train_test_split(x, y, test_size = 0.3)\n",
    "\n",
    "y_train = y_train.astype(int)\n",
    "y_test = y_test.astype(int)\n",
    "\n",
    "from sklearn.tree import DecisionTreeClassifier\n",
    "\n",
    "tree = DecisionTreeClassifier(max_depth = 5, criterion = 'entropy')\n",
    "tree.fit(X_train, y_train)"
   ]
  },
  {
   "cell_type": "code",
   "execution_count": 15,
   "metadata": {},
   "outputs": [],
   "source": [
    "from sklearn.tree import export_graphviz\n",
    "\n",
    "import subprocess\n",
    "\n",
    "export_graphviz(tree, out_file='Organics_tree.dot', \n",
    "               rounded = True, proportion = False, \n",
    "                precision = 2, filled = True)\n",
    "\n",
    "import pydot \n",
    "(graph, ) = pydot.graph_from_dot_file('Organics_tree.dot')\n",
    "\n",
    "graph.write_png('Organics_tree.png')"
   ]
  },
  {
   "cell_type": "code",
   "execution_count": 20,
   "metadata": {},
   "outputs": [
    {
     "name": "stdout",
     "output_type": "stream",
     "text": [
      "Classification:\n",
      "               precision    recall  f1-score   support\n",
      "\n",
      "           0       0.81      0.93      0.87      3635\n",
      "           1       0.68      0.40      0.51      1288\n",
      "\n",
      "    accuracy                           0.79      4923\n",
      "   macro avg       0.75      0.67      0.69      4923\n",
      "weighted avg       0.78      0.79      0.77      4923\n",
      "\n"
     ]
    }
   ],
   "source": [
    "from sklearn.metrics import classification_report, accuracy_score\n",
    "\n",
    "clsf = tree.fit(X_train, y_train)\n",
    "y_pred = clsf.predict(X_test)\n",
    "result = classification_report(y_test, y_pred)\n",
    "print(\"Classification:\\n\",result)"
   ]
  },
  {
   "cell_type": "code",
   "execution_count": 21,
   "metadata": {},
   "outputs": [
    {
     "name": "stdout",
     "output_type": "stream",
     "text": [
      "Accuracy: 0.7946374162096282\n"
     ]
    }
   ],
   "source": [
    "result2 = accuracy_score(y_test,y_pred)\n",
    "print(\"Accuracy:\",result2)"
   ]
  },
  {
   "cell_type": "code",
   "execution_count": 23,
   "metadata": {},
   "outputs": [
    {
     "data": {
      "text/plain": [
       "0.8019155420113191"
      ]
     },
     "execution_count": 23,
     "metadata": {},
     "output_type": "execute_result"
    }
   ],
   "source": [
    "# Проверяем точность\n",
    "# на обучающей\n",
    "tree.score(X_train, y_train) "
   ]
  },
  {
   "cell_type": "code",
   "execution_count": 24,
   "metadata": {},
   "outputs": [
    {
     "data": {
      "text/plain": [
       "0.7946374162096282"
      ]
     },
     "execution_count": 24,
     "metadata": {},
     "output_type": "execute_result"
    }
   ],
   "source": [
    "# на тестовой\n",
    "tree.score(X_test,y_test)"
   ]
  },
  {
   "cell_type": "markdown",
   "metadata": {},
   "source": [
    "Как параметры max_depth и min_samples_leaf влияют на вид разделяющей поверхности и точность модели?"
   ]
  },
  {
   "cell_type": "code",
   "execution_count": 38,
   "metadata": {},
   "outputs": [
    {
     "data": {
      "text/html": [
       "<div>\n",
       "<style scoped>\n",
       "    .dataframe tbody tr th:only-of-type {\n",
       "        vertical-align: middle;\n",
       "    }\n",
       "\n",
       "    .dataframe tbody tr th {\n",
       "        vertical-align: top;\n",
       "    }\n",
       "\n",
       "    .dataframe thead th {\n",
       "        text-align: right;\n",
       "    }\n",
       "</style>\n",
       "<table border=\"1\" class=\"dataframe\">\n",
       "  <thead>\n",
       "    <tr style=\"text-align: right;\">\n",
       "      <th></th>\n",
       "      <th>max_depth</th>\n",
       "      <th>train_score</th>\n",
       "      <th>test_score</th>\n",
       "    </tr>\n",
       "  </thead>\n",
       "  <tbody>\n",
       "    <tr>\n",
       "      <td>0</td>\n",
       "      <td>1</td>\n",
       "      <td>0.758032</td>\n",
       "      <td>0.763559</td>\n",
       "    </tr>\n",
       "    <tr>\n",
       "      <td>0</td>\n",
       "      <td>2</td>\n",
       "      <td>0.790161</td>\n",
       "      <td>0.789965</td>\n",
       "    </tr>\n",
       "    <tr>\n",
       "      <td>0</td>\n",
       "      <td>3</td>\n",
       "      <td>0.795908</td>\n",
       "      <td>0.796059</td>\n",
       "    </tr>\n",
       "    <tr>\n",
       "      <td>0</td>\n",
       "      <td>4</td>\n",
       "      <td>0.796778</td>\n",
       "      <td>0.797887</td>\n",
       "    </tr>\n",
       "    <tr>\n",
       "      <td>0</td>\n",
       "      <td>5</td>\n",
       "      <td>0.801916</td>\n",
       "      <td>0.794637</td>\n",
       "    </tr>\n",
       "    <tr>\n",
       "      <td>0</td>\n",
       "      <td>6</td>\n",
       "      <td>0.803570</td>\n",
       "      <td>0.795044</td>\n",
       "    </tr>\n",
       "    <tr>\n",
       "      <td>0</td>\n",
       "      <td>7</td>\n",
       "      <td>0.806443</td>\n",
       "      <td>0.794434</td>\n",
       "    </tr>\n",
       "    <tr>\n",
       "      <td>0</td>\n",
       "      <td>8</td>\n",
       "      <td>0.810710</td>\n",
       "      <td>0.791997</td>\n",
       "    </tr>\n",
       "    <tr>\n",
       "      <td>0</td>\n",
       "      <td>9</td>\n",
       "      <td>0.816021</td>\n",
       "      <td>0.789356</td>\n",
       "    </tr>\n",
       "    <tr>\n",
       "      <td>0</td>\n",
       "      <td>10</td>\n",
       "      <td>0.825076</td>\n",
       "      <td>0.784278</td>\n",
       "    </tr>\n",
       "    <tr>\n",
       "      <td>0</td>\n",
       "      <td>11</td>\n",
       "      <td>0.834654</td>\n",
       "      <td>0.780622</td>\n",
       "    </tr>\n",
       "    <tr>\n",
       "      <td>0</td>\n",
       "      <td>12</td>\n",
       "      <td>0.843274</td>\n",
       "      <td>0.778387</td>\n",
       "    </tr>\n",
       "    <tr>\n",
       "      <td>0</td>\n",
       "      <td>13</td>\n",
       "      <td>0.856596</td>\n",
       "      <td>0.776965</td>\n",
       "    </tr>\n",
       "    <tr>\n",
       "      <td>0</td>\n",
       "      <td>14</td>\n",
       "      <td>0.869395</td>\n",
       "      <td>0.766403</td>\n",
       "    </tr>\n",
       "    <tr>\n",
       "      <td>0</td>\n",
       "      <td>15</td>\n",
       "      <td>0.884110</td>\n",
       "      <td>0.761121</td>\n",
       "    </tr>\n",
       "    <tr>\n",
       "      <td>0</td>\n",
       "      <td>16</td>\n",
       "      <td>0.898563</td>\n",
       "      <td>0.749746</td>\n",
       "    </tr>\n",
       "    <tr>\n",
       "      <td>0</td>\n",
       "      <td>17</td>\n",
       "      <td>0.913714</td>\n",
       "      <td>0.742433</td>\n",
       "    </tr>\n",
       "    <tr>\n",
       "      <td>0</td>\n",
       "      <td>18</td>\n",
       "      <td>0.926600</td>\n",
       "      <td>0.741824</td>\n",
       "    </tr>\n",
       "    <tr>\n",
       "      <td>0</td>\n",
       "      <td>19</td>\n",
       "      <td>0.937048</td>\n",
       "      <td>0.730043</td>\n",
       "    </tr>\n",
       "    <tr>\n",
       "      <td>0</td>\n",
       "      <td>20</td>\n",
       "      <td>0.947671</td>\n",
       "      <td>0.731058</td>\n",
       "    </tr>\n",
       "    <tr>\n",
       "      <td>0</td>\n",
       "      <td>21</td>\n",
       "      <td>0.956465</td>\n",
       "      <td>0.725574</td>\n",
       "    </tr>\n",
       "    <tr>\n",
       "      <td>0</td>\n",
       "      <td>22</td>\n",
       "      <td>0.963169</td>\n",
       "      <td>0.722527</td>\n",
       "    </tr>\n",
       "    <tr>\n",
       "      <td>0</td>\n",
       "      <td>23</td>\n",
       "      <td>0.971615</td>\n",
       "      <td>0.718261</td>\n",
       "    </tr>\n",
       "    <tr>\n",
       "      <td>0</td>\n",
       "      <td>24</td>\n",
       "      <td>0.977362</td>\n",
       "      <td>0.717855</td>\n",
       "    </tr>\n",
       "  </tbody>\n",
       "</table>\n",
       "</div>"
      ],
      "text/plain": [
       "   max_depth  train_score  test_score\n",
       "0          1     0.758032    0.763559\n",
       "0          2     0.790161    0.789965\n",
       "0          3     0.795908    0.796059\n",
       "0          4     0.796778    0.797887\n",
       "0          5     0.801916    0.794637\n",
       "0          6     0.803570    0.795044\n",
       "0          7     0.806443    0.794434\n",
       "0          8     0.810710    0.791997\n",
       "0          9     0.816021    0.789356\n",
       "0         10     0.825076    0.784278\n",
       "0         11     0.834654    0.780622\n",
       "0         12     0.843274    0.778387\n",
       "0         13     0.856596    0.776965\n",
       "0         14     0.869395    0.766403\n",
       "0         15     0.884110    0.761121\n",
       "0         16     0.898563    0.749746\n",
       "0         17     0.913714    0.742433\n",
       "0         18     0.926600    0.741824\n",
       "0         19     0.937048    0.730043\n",
       "0         20     0.947671    0.731058\n",
       "0         21     0.956465    0.725574\n",
       "0         22     0.963169    0.722527\n",
       "0         23     0.971615    0.718261\n",
       "0         24     0.977362    0.717855"
      ]
     },
     "execution_count": 38,
     "metadata": {},
     "output_type": "execute_result"
    }
   ],
   "source": [
    "# Влияние max_depth на дерево\n",
    "max_depth_values = range(1, 25)\n",
    "scores_data = pd.DataFrame()\n",
    "for max_depth in max_depth_values:    \n",
    "    tree = DecisionTreeClassifier(criterion='entropy', max_depth=max_depth)\n",
    "    tree.fit(X_train, y_train)\n",
    "    train_score = tree.score(X_train, y_train)\n",
    "    test_score = tree.score(X_test,y_test)\n",
    "    \n",
    "    temp_score_data = pd.DataFrame({'max_depth': [max_depth], \n",
    "                                    'train_score': [train_score],\n",
    "                                    'test_score': test_score})\n",
    "    scores_data = scores_data.append(temp_score_data)\n",
    "scores_data"
   ]
  },
  {
   "cell_type": "code",
   "execution_count": 40,
   "metadata": {},
   "outputs": [
    {
     "data": {
      "text/html": [
       "<div>\n",
       "<style scoped>\n",
       "    .dataframe tbody tr th:only-of-type {\n",
       "        vertical-align: middle;\n",
       "    }\n",
       "\n",
       "    .dataframe tbody tr th {\n",
       "        vertical-align: top;\n",
       "    }\n",
       "\n",
       "    .dataframe thead th {\n",
       "        text-align: right;\n",
       "    }\n",
       "</style>\n",
       "<table border=\"1\" class=\"dataframe\">\n",
       "  <thead>\n",
       "    <tr style=\"text-align: right;\">\n",
       "      <th></th>\n",
       "      <th>min_samples_leaf</th>\n",
       "      <th>train_score</th>\n",
       "      <th>test_score</th>\n",
       "    </tr>\n",
       "  </thead>\n",
       "  <tbody>\n",
       "    <tr>\n",
       "      <td>0</td>\n",
       "      <td>1</td>\n",
       "      <td>0.996691</td>\n",
       "      <td>0.717855</td>\n",
       "    </tr>\n",
       "    <tr>\n",
       "      <td>0</td>\n",
       "      <td>2</td>\n",
       "      <td>0.931824</td>\n",
       "      <td>0.737558</td>\n",
       "    </tr>\n",
       "    <tr>\n",
       "      <td>0</td>\n",
       "      <td>3</td>\n",
       "      <td>0.906574</td>\n",
       "      <td>0.730652</td>\n",
       "    </tr>\n",
       "    <tr>\n",
       "      <td>0</td>\n",
       "      <td>4</td>\n",
       "      <td>0.883065</td>\n",
       "      <td>0.743246</td>\n",
       "    </tr>\n",
       "    <tr>\n",
       "      <td>0</td>\n",
       "      <td>5</td>\n",
       "      <td>0.868089</td>\n",
       "      <td>0.753402</td>\n",
       "    </tr>\n",
       "    <tr>\n",
       "      <td>0</td>\n",
       "      <td>6</td>\n",
       "      <td>0.856683</td>\n",
       "      <td>0.760918</td>\n",
       "    </tr>\n",
       "    <tr>\n",
       "      <td>0</td>\n",
       "      <td>7</td>\n",
       "      <td>0.848846</td>\n",
       "      <td>0.760715</td>\n",
       "    </tr>\n",
       "    <tr>\n",
       "      <td>0</td>\n",
       "      <td>8</td>\n",
       "      <td>0.841532</td>\n",
       "      <td>0.766606</td>\n",
       "    </tr>\n",
       "    <tr>\n",
       "      <td>0</td>\n",
       "      <td>9</td>\n",
       "      <td>0.837440</td>\n",
       "      <td>0.774528</td>\n",
       "    </tr>\n",
       "    <tr>\n",
       "      <td>0</td>\n",
       "      <td>10</td>\n",
       "      <td>0.833000</td>\n",
       "      <td>0.773106</td>\n",
       "    </tr>\n",
       "    <tr>\n",
       "      <td>0</td>\n",
       "      <td>11</td>\n",
       "      <td>0.829430</td>\n",
       "      <td>0.773106</td>\n",
       "    </tr>\n",
       "    <tr>\n",
       "      <td>0</td>\n",
       "      <td>12</td>\n",
       "      <td>0.827166</td>\n",
       "      <td>0.777778</td>\n",
       "    </tr>\n",
       "    <tr>\n",
       "      <td>0</td>\n",
       "      <td>13</td>\n",
       "      <td>0.825686</td>\n",
       "      <td>0.778387</td>\n",
       "    </tr>\n",
       "    <tr>\n",
       "      <td>0</td>\n",
       "      <td>14</td>\n",
       "      <td>0.823857</td>\n",
       "      <td>0.778793</td>\n",
       "    </tr>\n",
       "  </tbody>\n",
       "</table>\n",
       "</div>"
      ],
      "text/plain": [
       "   min_samples_leaf  train_score  test_score\n",
       "0                 1     0.996691    0.717855\n",
       "0                 2     0.931824    0.737558\n",
       "0                 3     0.906574    0.730652\n",
       "0                 4     0.883065    0.743246\n",
       "0                 5     0.868089    0.753402\n",
       "0                 6     0.856683    0.760918\n",
       "0                 7     0.848846    0.760715\n",
       "0                 8     0.841532    0.766606\n",
       "0                 9     0.837440    0.774528\n",
       "0                10     0.833000    0.773106\n",
       "0                11     0.829430    0.773106\n",
       "0                12     0.827166    0.777778\n",
       "0                13     0.825686    0.778387\n",
       "0                14     0.823857    0.778793"
      ]
     },
     "execution_count": 40,
     "metadata": {},
     "output_type": "execute_result"
    }
   ],
   "source": [
    "# точность train_score повышается\n",
    "\n",
    "# Влияние min_samples_leaf на дерево\n",
    "min_samples_leaf_values = range(1, 15)\n",
    "scores_data = pd.DataFrame()\n",
    "for min_samples_leaf in min_samples_leaf_values:    \n",
    "    tree = DecisionTreeClassifier(criterion='entropy', min_samples_leaf=min_samples_leaf)\n",
    "    tree.fit(X_train, y_train)\n",
    "    train_score = tree.score(X_train, y_train)\n",
    "    test_score = tree.score(X_test,y_test)\n",
    "    \n",
    "    temp_score_data = pd.DataFrame({'min_samples_leaf': [min_samples_leaf], \n",
    "                                    'train_score': [train_score],\n",
    "                                    'test_score': test_score})\n",
    "    scores_data = scores_data.append(temp_score_data)\n",
    "scores_data"
   ]
  },
  {
   "cell_type": "code",
   "execution_count": 41,
   "metadata": {},
   "outputs": [],
   "source": [
    "# точность test_score повышается, train_score - понижается"
   ]
  },
  {
   "cell_type": "markdown",
   "metadata": {},
   "source": [
    "# (2) Замена Nan усредненными значениями\n"
   ]
  },
  {
   "cell_type": "code",
   "execution_count": 43,
   "metadata": {},
   "outputs": [
    {
     "name": "stdout",
     "output_type": "stream",
     "text": [
      "       DemAffl  DemAge  DemCluster  PromSpend  PromTime\n",
      "0         10.0    76.0        16.0   16000.00       4.0\n",
      "1          4.0    49.0        35.0    6000.00       5.0\n",
      "2          5.0    70.0        27.0       0.02       8.0\n",
      "3         10.0    65.0        51.0       0.01       7.0\n",
      "4         11.0    68.0         4.0       0.01       8.0\n",
      "...        ...     ...         ...        ...       ...\n",
      "22218     13.0    65.0         9.0    1500.00       5.0\n",
      "22219     15.0    73.0        34.0    6053.06      12.0\n",
      "22220      9.0    70.0        15.0    6000.00       5.0\n",
      "22221     11.0    66.0         8.0    5000.00       5.0\n",
      "22222      3.0    75.0        53.0    6000.00       2.0\n",
      "\n",
      "[22223 rows x 5 columns]\n"
     ]
    }
   ],
   "source": [
    "df4= df2.fillna(df2.median(axis=0), axis=0)\n",
    "x = df4[['DemAffl',  'DemAge', 'DemCluster', 'PromSpend', 'PromTime']]\n",
    "y = df4.values[::,10]\n",
    "print(x)"
   ]
  },
  {
   "cell_type": "code",
   "execution_count": 44,
   "metadata": {},
   "outputs": [
    {
     "name": "stdout",
     "output_type": "stream",
     "text": [
      "[0 0 1 ... 0 0 0]\n"
     ]
    }
   ],
   "source": [
    "print(y)"
   ]
  },
  {
   "cell_type": "code",
   "execution_count": 47,
   "metadata": {},
   "outputs": [
    {
     "data": {
      "text/plain": [
       "DecisionTreeClassifier(class_weight=None, criterion='entropy', max_depth=5,\n",
       "                       max_features=None, max_leaf_nodes=None,\n",
       "                       min_impurity_decrease=0.0, min_impurity_split=None,\n",
       "                       min_samples_leaf=1, min_samples_split=2,\n",
       "                       min_weight_fraction_leaf=0.0, presort=False,\n",
       "                       random_state=None, splitter='best')"
      ]
     },
     "execution_count": 47,
     "metadata": {},
     "output_type": "execute_result"
    }
   ],
   "source": [
    "X_train, X_test, y_train, y_test = train_test_split(x, y, test_size = 0.3)\n",
    "y_train = y_train.astype(int)\n",
    "y_test = y_test.astype(int)\n",
    "tree2 = DecisionTreeClassifier(max_depth = 5, criterion = 'entropy')\n",
    "tree2.fit(X_train, y_train)"
   ]
  },
  {
   "cell_type": "code",
   "execution_count": 48,
   "metadata": {},
   "outputs": [
    {
     "data": {
      "text/plain": [
       "0.8011699665723836"
      ]
     },
     "execution_count": 48,
     "metadata": {},
     "output_type": "execute_result"
    }
   ],
   "source": [
    "tree2.score(X_train, y_train) "
   ]
  },
  {
   "cell_type": "code",
   "execution_count": 49,
   "metadata": {},
   "outputs": [
    {
     "data": {
      "text/plain": [
       "0.7961601919904004"
      ]
     },
     "execution_count": 49,
     "metadata": {},
     "output_type": "execute_result"
    }
   ],
   "source": [
    "tree2.score(X_test, y_test) "
   ]
  },
  {
   "cell_type": "code",
   "execution_count": 52,
   "metadata": {},
   "outputs": [
    {
     "name": "stdout",
     "output_type": "stream",
     "text": [
      "Classification:\n",
      "               precision    recall  f1-score   support\n",
      "\n",
      "           0       0.80      0.97      0.88      4975\n",
      "           1       0.75      0.30      0.43      1692\n",
      "\n",
      "    accuracy                           0.80      6667\n",
      "   macro avg       0.77      0.63      0.65      6667\n",
      "weighted avg       0.79      0.80      0.76      6667\n",
      "\n"
     ]
    }
   ],
   "source": [
    "clsf = tree2.fit(X_train, y_train)\n",
    "y_pred2 = clsf.predict(X_test)\n",
    "result1 = classification_report(y_test, y_pred2)\n",
    "result2 = accuracy_score(y_test,y_pred2)\n",
    "print(\"Classification:\\n\",result1)"
   ]
  },
  {
   "cell_type": "code",
   "execution_count": 53,
   "metadata": {},
   "outputs": [
    {
     "name": "stdout",
     "output_type": "stream",
     "text": [
      "Accuracy: 0.7961601919904004\n"
     ]
    }
   ],
   "source": [
    "print(\"Accuracy:\",result2)"
   ]
  },
  {
   "cell_type": "code",
   "execution_count": null,
   "metadata": {},
   "outputs": [],
   "source": [
    "3)  Ответить на вопросы: \n",
    "\n",
    "    1-Что такое решающее дерево? Как по построенному дереву найти прогноз для объекта? \n",
    "\n",
    "Решающее дерево- в общем случае — это k-ичное дерево с решающими правилами в нелистовых вершинах (узлах) и некотором заключении о целевой функции в листовых вершинах (прогнозом).\n",
    "Чтобы найти прогноз, нужно спуститься по дереву до листа, пройдя по рёбрам, чьи условия удовлетворяют заданным значениям.\n",
    "\n",
    "    2-Зачем в вершинах нужны предикаты? Какие типы предикатов вы знаете? Приведите примеры. \n",
    "\n",
    "Предикаты - это правила дерева которые делят информацию, классифицируют объект\n",
    "Типы: Одномерные, многомерные\n",
    "пример:[возраст>20]\n",
    "    \n",
    "    3-Почему для любой выборки можно построить решающее дерево, имеющее нулевую ошибку на ней? \n",
    "\n",
    "Т.к. можно сформировать дерево, в каждом листе которого находится ровно по\n",
    "одному объекту выборки. Скорее всего, это дерево будет переобученным и не сможет показать хорошее качество на новых данных.\n",
    "\n",
    "    4-Почему не рекомендуется строить небинарные деревья (т.е. имеющие больше двух потомков у каждой вершины)? \n",
    "\n",
    "Многомерные предикаты позволяют строить ещё более сложные разделяющие поверхности, но очень редко используются на практике — например, из-за того, что\n",
    "усиливают и без того выдающиеся способности деревьев к переобучению.\n",
    "Так же небинарные деревья замедляют поиск.\n",
    "\n",
    "    5-Как устроен жадный алгоритм построения дерева? Какие у него параметры? \n",
    "\n",
    "Начнем со всей обучающей выборки X и найдем наилучшее ее разбиение на две\n",
    "части R1(j, t) = {x | xj < t} и R2(j, t) = {x | xj > t} с точки зрения заранее заданного функционала качества Q(X, j, t). Найдя наилучшие значения j и t, создадим\n",
    "корневую вершину дерева, поставив ей в соответствие предикат [xj < t]. Объекты\n",
    "разобьются на две части — одни попадут в левое поддерево, другие в правое. Для\n",
    "каждой из этих подвыборок рекурсивно повторим процедуру, построив дочерние вершины для корневой, и так далее. В каждой вершине мы проверяем, не выполнилось\n",
    "ли некоторое условие останова — и если выполнилось, то прекращаем рекурсию и\n",
    "объявляем эту вершину листом. Когда дерево построено, каждому листу ставится в\n",
    "соответствие ответ. В случае с классификацией это может быть класс, к которому\n",
    "относится больше всего объектов в листе, или вектор вероятностей (скажем, вероятность класса может быть равна доле его объектов в листе). Для регрессии это\n",
    "может быть среднее значение, медиана или другая функция от целевых переменных\n",
    "объектов в листе. Выбор конкретной функции зависит от функционала качества в\n",
    "исходной задаче.\n",
    "\n",
    "    6-Зачем нужны критерии информативности?\n",
    "\n",
    "С их помощью можно выбирать оптимальное разбиение при построении решающего дерева.\n",
    "\n",
    "    7-Как задается критерий ошибки классификации? Критерий Джини? Энтропийный критерий? Какой у них смысл? \n",
    "\n",
    "Ошибка классификации\n",
    "I(p1...pC)=1−maxipi\n",
    "\n",
    "Интерпретация: частота ошибок при классификации наиболее мощным классом.\n",
    "    \n",
    "Критерий Джини\n",
    "I(p1...pC)=∑k≠k′pkpk′=∑ipi(1−pi)\n",
    "\n",
    "Интерпретация: вероятность неправильной классификации, если предсказывать классы с вероятностями их появления в этом узле\n",
    "    \n",
    "Энтропия\n",
    "I(p1...pC)=−∑ipilnpi\n",
    "\n",
    "Интерпретация: мера неопределённости случайной величины."
   ]
  }
 ],
 "metadata": {
  "kernelspec": {
   "display_name": "Python 3",
   "language": "python",
   "name": "python3"
  },
  "language_info": {
   "codemirror_mode": {
    "name": "ipython",
    "version": 3
   },
   "file_extension": ".py",
   "mimetype": "text/x-python",
   "name": "python",
   "nbconvert_exporter": "python",
   "pygments_lexer": "ipython3",
   "version": "3.7.4"
  }
 },
 "nbformat": 4,
 "nbformat_minor": 2
}
